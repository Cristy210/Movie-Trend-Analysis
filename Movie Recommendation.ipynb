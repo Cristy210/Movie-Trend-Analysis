{
  "cells": [
    {
      "cell_type": "code",
      "execution_count": 2,
      "metadata": {
        "id": "MwOr0VrrOv4Q"
      },
      "outputs": [],
      "source": [
        "import numpy as np\n",
        "import pandas as pd\n",
        "import nltk\n",
        "from nltk.corpus import stopwords\n",
        "from nltk.stem import WordNetLemmatizer\n",
        "from sklearn.preprocessing import MultiLabelBinarizer\n",
        "from sklearn.model_selection import train_test_split\n",
        "from tensorflow.keras.preprocessing.text import Tokenizer\n",
        "from tensorflow.keras.preprocessing.sequence import pad_sequences"
      ]
    },
    {
      "cell_type": "markdown",
      "metadata": {},
      "source": [
        "Load the Data"
      ]
    },
    {
      "cell_type": "code",
      "execution_count": 3,
      "metadata": {
        "id": "nOdsctkuOv4R"
      },
      "outputs": [
        {
          "name": "stderr",
          "output_type": "stream",
          "text": [
            "[nltk_data] Downloading package stopwords to\n",
            "[nltk_data]     /Users/suhasmathey/nltk_data...\n",
            "[nltk_data]   Unzipping corpora/stopwords.zip.\n",
            "[nltk_data] Downloading package wordnet to\n",
            "[nltk_data]     /Users/suhasmathey/nltk_data...\n"
          ]
        },
        {
          "data": {
            "text/plain": [
              "True"
            ]
          },
          "execution_count": 3,
          "metadata": {},
          "output_type": "execute_result"
        }
      ],
      "source": [
        "data = pd.read_csv(\"/Users/suhasmathey/Library/CloudStorage/OneDrive-UniversityofDelaware-o365/Summer Projects/Movie_Trend_Analysis/Movie-Trend-Analysis/imdb-movies-dataset.csv\")\n",
        "\n",
        "nltk.download('stopwords')\n",
        "nltk.download('wordnet')"
      ]
    },
    {
      "cell_type": "markdown",
      "metadata": {},
      "source": [
        "Preprocessing the Data - Removing the stop words and lemmatizing the words in the movie descriptions. "
      ]
    },
    {
      "cell_type": "code",
      "execution_count": 4,
      "metadata": {},
      "outputs": [],
      "source": [
        "stop_words = set(stopwords.words('english'))\n",
        "lemmatizer = WordNetLemmatizer()\n",
        "\n",
        "def preprocess(text):\n",
        "    words = text.split() #Splitting text into words\n",
        "    filtered_words = [word for word in words if word.lower() not in stop_words] #If the word is not in stop_words, it is included in filtered_words\n",
        "    text = ''.join(filtered_words)\n",
        "    lemmatized_words = [lemmatizer.lemmatize(word) for word in words]\n",
        "    return ''.join(lemmatized_words)\n",
        "\n",
        "data['Description'] = data['Description'].apply(preprocess)"
      ]
    },
    {
      "cell_type": "code",
      "execution_count": 5,
      "metadata": {},
      "outputs": [
        {
          "name": "stdout",
          "output_type": "stream",
          "text": [
            "0       Solène,a40-year-oldsinglemom,beginanunexpected...\n",
            "1       ManyyearafterthereignofCaesar,ayoungapegoonajo...\n",
            "2       In1963Michigan,businessrivalKellogg'sandPostco...\n",
            "3       Adown-and-outstuntmanmustfindthemissingstarofh...\n",
            "4       Tashi,aformertennisprodigyturnedcoach,turnedhe...\n",
            "                              ...                        \n",
            "9995    Thedramaticlifeoftrapezeartists,aclown,andanel...\n",
            "9996    AlonesellswordnamedGutsgetrecruitedintoamercen...\n",
            "9997    Acoupleoftwelve-year-oldNorwegiangirlstrugglew...\n",
            "9998    Ajournaliststrikeuparomanticrelationshipwithno...\n",
            "9999    Awidowandawidowerfindtheirrelationshipdevelopi...\n",
            "Name: Description, Length: 10000, dtype: object\n"
          ]
        }
      ],
      "source": [
        "print(data['Description'])"
      ]
    },
    {
      "cell_type": "code",
      "execution_count": null,
      "metadata": {},
      "outputs": [],
      "source": []
    }
  ],
  "metadata": {
    "accelerator": "GPU",
    "colab": {
      "gpuType": "L4",
      "machine_shape": "hm",
      "provenance": []
    },
    "kernelspec": {
      "display_name": "Python 3",
      "name": "python3"
    },
    "language_info": {
      "codemirror_mode": {
        "name": "ipython",
        "version": 3
      },
      "file_extension": ".py",
      "mimetype": "text/x-python",
      "name": "python",
      "nbconvert_exporter": "python",
      "pygments_lexer": "ipython3",
      "version": "3.11.8"
    }
  },
  "nbformat": 4,
  "nbformat_minor": 0
}
