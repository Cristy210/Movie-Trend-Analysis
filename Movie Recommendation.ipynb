{
  "cells": [
    {
      "cell_type": "code",
      "execution_count": 19,
      "metadata": {
        "id": "MwOr0VrrOv4Q"
      },
      "outputs": [],
      "source": [
        "import numpy as np\n",
        "import pandas as pd\n",
        "import nltk\n",
        "from nltk.corpus import stopwords\n",
        "from nltk.stem import WordNetLemmatizer\n",
        "from sklearn.preprocessing import MultiLabelBinarizer\n",
        "from sklearn.model_selection import train_test_split\n",
        "from tensorflow.keras.preprocessing.text import Tokenizer\n",
        "from tensorflow.keras.preprocessing.sequence import pad_sequences\n",
        "from tensorflow.keras.models import Sequential\n",
        "from tensorflow.keras.layers import Embedding, LSTM, Dense, GlobalMaxPool1D\n",
        "from sklearn.utils.class_weight import compute_class_weight"
      ]
    },
    {
      "cell_type": "markdown",
      "metadata": {},
      "source": [
        "Load the Data"
      ]
    },
    {
      "cell_type": "code",
      "execution_count": 2,
      "metadata": {
        "id": "nOdsctkuOv4R"
      },
      "outputs": [
        {
          "name": "stderr",
          "output_type": "stream",
          "text": [
            "[nltk_data] Downloading package stopwords to\n",
            "[nltk_data]     /Users/suhasmathey/nltk_data...\n",
            "[nltk_data]   Package stopwords is already up-to-date!\n",
            "[nltk_data] Downloading package wordnet to\n",
            "[nltk_data]     /Users/suhasmathey/nltk_data...\n",
            "[nltk_data]   Package wordnet is already up-to-date!\n"
          ]
        },
        {
          "data": {
            "text/plain": [
              "True"
            ]
          },
          "execution_count": 2,
          "metadata": {},
          "output_type": "execute_result"
        }
      ],
      "source": [
        "data = pd.read_csv(\"/Users/suhasmathey/Library/CloudStorage/OneDrive-UniversityofDelaware-o365/Summer Projects/Movie_Trend_Analysis/Movie-Trend-Analysis/imdb-movies-dataset.csv\")\n",
        "\n",
        "nltk.download('stopwords')\n",
        "nltk.download('wordnet')"
      ]
    },
    {
      "cell_type": "markdown",
      "metadata": {},
      "source": [
        "Preprocessing the Data - Removing the stop words and lemmatizing the words in the movie descriptions. "
      ]
    },
    {
      "cell_type": "code",
      "execution_count": 3,
      "metadata": {},
      "outputs": [],
      "source": [
        "stop_words = set(stopwords.words('english'))\n",
        "lemmatizer = WordNetLemmatizer()\n",
        "\n",
        "def preprocess(text):\n",
        "    words = text.split() #Splitting text into words\n",
        "    filtered_words = [word for word in words if word.lower() not in stop_words] #If the word is not in stop_words, it is included in filtered_words\n",
        "    text = ''.join(filtered_words)\n",
        "    lemmatized_words = [lemmatizer.lemmatize(word) for word in words]\n",
        "    return ''.join(lemmatized_words)\n",
        "\n",
        "data['Description'] = data['Description'].apply(preprocess)"
      ]
    },
    {
      "cell_type": "markdown",
      "metadata": {},
      "source": [
        "Tokenizing the words in the description \n",
        "\n",
        "Tokenizer - Breaking down text into smaller units, \"tokens\"\n",
        "\n",
        "texts_to_sequence - Converting text into a sequence of integers"
      ]
    },
    {
      "cell_type": "code",
      "execution_count": 6,
      "metadata": {},
      "outputs": [],
      "source": [
        "tokenizer = Tokenizer(num_words=7000)\n",
        "tokenizer.fit_on_texts(data['Description'])\n",
        "X = tokenizer.texts_to_sequences(data['Description'])\n",
        "X = pad_sequences(X, maxlen=50)\n"
      ]
    },
    {
      "cell_type": "markdown",
      "metadata": {},
      "source": [
        "Encoding genre labels into a binary format\n",
        "\n",
        ".fillna('') - Fills cells with NaN values with empty strings, preventing from encoutering float objects"
      ]
    },
    {
      "cell_type": "code",
      "execution_count": 11,
      "metadata": {},
      "outputs": [],
      "source": [
        "data['Genre'] = data['Genre'].fillna('')\n",
        "data['Genre'] = data['Genre'].apply(lambda x: x.split(' , '))\n",
        "mlb = MultiLabelBinarizer()\n",
        "y = mlb.fit_transform(data['Genre'])"
      ]
    },
    {
      "cell_type": "code",
      "execution_count": 12,
      "metadata": {},
      "outputs": [],
      "source": [
        "X_train, X_test, y_train, y_test = train_test_split(X, y, test_size=0.3, random_state=42)"
      ]
    },
    {
      "cell_type": "code",
      "execution_count": 21,
      "metadata": {},
      "outputs": [
        {
          "name": "stdout",
          "output_type": "stream",
          "text": [
            "Epoch 1/20\n",
            "154/154 [==============================] - 6s 30ms/step - loss: 0.0814 - accuracy: 0.0341 - val_loss: 0.0127 - val_accuracy: 0.0557\n",
            "Epoch 2/20\n",
            "154/154 [==============================] - 3s 22ms/step - loss: 0.0127 - accuracy: 0.0476 - val_loss: 0.0127 - val_accuracy: 0.0557\n",
            "Epoch 3/20\n",
            "154/154 [==============================] - 3s 22ms/step - loss: 0.0127 - accuracy: 0.0443 - val_loss: 0.0128 - val_accuracy: 0.0357\n",
            "Epoch 4/20\n",
            "154/154 [==============================] - 3s 22ms/step - loss: 0.0127 - accuracy: 0.0429 - val_loss: 0.0127 - val_accuracy: 0.0357\n",
            "Epoch 5/20\n",
            "154/154 [==============================] - 3s 22ms/step - loss: 0.0127 - accuracy: 0.0431 - val_loss: 0.0128 - val_accuracy: 0.0557\n",
            "Epoch 6/20\n",
            "154/154 [==============================] - 3s 22ms/step - loss: 0.0127 - accuracy: 0.0453 - val_loss: 0.0128 - val_accuracy: 0.0557\n",
            "Epoch 7/20\n",
            "154/154 [==============================] - 3s 22ms/step - loss: 0.0127 - accuracy: 0.0424 - val_loss: 0.0127 - val_accuracy: 0.0357\n",
            "Epoch 8/20\n",
            "154/154 [==============================] - 3s 22ms/step - loss: 0.0127 - accuracy: 0.0400 - val_loss: 0.0128 - val_accuracy: 0.0557\n",
            "Epoch 9/20\n",
            "154/154 [==============================] - 3s 22ms/step - loss: 0.0127 - accuracy: 0.0463 - val_loss: 0.0128 - val_accuracy: 0.0557\n",
            "Epoch 10/20\n",
            "154/154 [==============================] - 3s 22ms/step - loss: 0.0127 - accuracy: 0.0469 - val_loss: 0.0127 - val_accuracy: 0.0557\n",
            "Epoch 11/20\n",
            "154/154 [==============================] - 3s 22ms/step - loss: 0.0127 - accuracy: 0.0486 - val_loss: 0.0128 - val_accuracy: 0.0557\n",
            "Epoch 12/20\n",
            "154/154 [==============================] - 3s 22ms/step - loss: 0.0127 - accuracy: 0.0469 - val_loss: 0.0127 - val_accuracy: 0.0557\n",
            "Epoch 13/20\n",
            "154/154 [==============================] - 3s 22ms/step - loss: 0.0127 - accuracy: 0.0400 - val_loss: 0.0128 - val_accuracy: 0.0557\n",
            "Epoch 14/20\n",
            "154/154 [==============================] - 3s 22ms/step - loss: 0.0127 - accuracy: 0.0469 - val_loss: 0.0128 - val_accuracy: 0.0557\n",
            "Epoch 15/20\n",
            "154/154 [==============================] - 3s 22ms/step - loss: 0.0127 - accuracy: 0.0424 - val_loss: 0.0127 - val_accuracy: 0.0557\n",
            "Epoch 16/20\n",
            "154/154 [==============================] - 3s 22ms/step - loss: 0.0127 - accuracy: 0.0451 - val_loss: 0.0128 - val_accuracy: 0.0557\n",
            "Epoch 17/20\n",
            "154/154 [==============================] - 3s 22ms/step - loss: 0.0127 - accuracy: 0.0422 - val_loss: 0.0128 - val_accuracy: 0.0557\n",
            "Epoch 18/20\n",
            "154/154 [==============================] - 3s 22ms/step - loss: 0.0127 - accuracy: 0.0433 - val_loss: 0.0127 - val_accuracy: 0.0557\n",
            "Epoch 19/20\n",
            "154/154 [==============================] - 3s 22ms/step - loss: 0.0127 - accuracy: 0.0461 - val_loss: 0.0128 - val_accuracy: 0.0348\n",
            "Epoch 20/20\n",
            "154/154 [==============================] - 3s 22ms/step - loss: 0.0127 - accuracy: 0.0482 - val_loss: 0.0127 - val_accuracy: 0.0557\n"
          ]
        },
        {
          "data": {
            "text/plain": [
              "<keras.src.callbacks.History at 0x302fc9c50>"
            ]
          },
          "execution_count": 21,
          "metadata": {},
          "output_type": "execute_result"
        }
      ],
      "source": [
        "model = Sequential()\n",
        "model.add(Embedding(input_dim=7000, output_dim=150, input_length=50))\n",
        "model.add(LSTM(128, return_sequences=True))\n",
        "model.add(GlobalMaxPool1D())\n",
        "model.add(Dense(128, activation='relu'))\n",
        "model.add(Dense(y.shape[1], activation='sigmoid'))\n",
        "\n",
        "model.compile(optimizer='adam', loss='binary_crossentropy', metrics=['accuracy'])\n",
        "model.fit(X_train, y_train, epochs=20, batch_size=32, validation_split=0.3)"
      ]
    },
    {
      "cell_type": "code",
      "execution_count": 22,
      "metadata": {},
      "outputs": [
        {
          "name": "stdout",
          "output_type": "stream",
          "text": [
            "94/94 [==============================] - 1s 7ms/step - loss: 0.0127 - accuracy: 0.0450\n",
            "Test Loss: 0.01267897430807352\n",
            "Test Accuracy: 0.04500000178813934\n"
          ]
        }
      ],
      "source": [
        "loss, accuracy = model.evaluate(X_test, y_test)\n",
        "print(f'Test Loss: {loss}')\n",
        "print(f'Test Accuracy: {accuracy}')"
      ]
    },
    {
      "cell_type": "code",
      "execution_count": null,
      "metadata": {},
      "outputs": [],
      "source": []
    }
  ],
  "metadata": {
    "accelerator": "GPU",
    "colab": {
      "gpuType": "L4",
      "machine_shape": "hm",
      "provenance": []
    },
    "kernelspec": {
      "display_name": "Python 3",
      "name": "python3"
    },
    "language_info": {
      "codemirror_mode": {
        "name": "ipython",
        "version": 3
      },
      "file_extension": ".py",
      "mimetype": "text/x-python",
      "name": "python",
      "nbconvert_exporter": "python",
      "pygments_lexer": "ipython3",
      "version": "3.11.8"
    }
  },
  "nbformat": 4,
  "nbformat_minor": 0
}
